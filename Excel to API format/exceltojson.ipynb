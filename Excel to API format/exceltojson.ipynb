{
 "cells": [
  {
   "cell_type": "code",
   "execution_count": 94,
   "metadata": {},
   "outputs": [
    {
     "name": "stdout",
     "output_type": "stream",
     "text": [
      "Preparing Data\n"
     ]
    }
   ],
   "source": [
    "import pandas as pd\n",
    "import json\n",
    "from flask import jsonify\n",
    "\n",
    "print(\"Preparing Data\")\n",
    "# Work with XSLX and define variables\n",
    "\n",
    "xls = pd.ExcelFile(\"FAQ.xlsx\")\n",
    "df1 = pd.read_excel(xls, \"FAQ's\")\n",
    "df = pd.DataFrame()\n",
    "df['Questions']=list(df1['Question'])\n",
    "df['Answers']=list(df1['Answer'])\n",
    "df['Topic']=list(df1['Topic'])\n",
    "n_items = max(df.count())\n",
    "qa = df[:n_items]\n",
    "\n",
    "# get Organization Info\n",
    "df2 = pd.read_excel(xls, \"Introduction\")\n",
    "df2.columns = ['row', 'faq2bot instruction', 'none', 'label', 'value']\n",
    "orgdict = df2.set_index('label')['value'].to_dict()\n",
    "questions = list(qa['Questions'])\n",
    "answers = list(qa['Answers'])\n",
    "topics = list(qa['Topic'])\n",
    "\n"
   ]
  },
  {
   "cell_type": "code",
   "execution_count": 95,
   "metadata": {},
   "outputs": [
    {
     "name": "stdout",
     "output_type": "stream",
     "text": [
      "orgdict[\"nan\"]\n",
      "orgdict[\"Organization\"]\n",
      "orgdict[\"Language\"]\n",
      "orgdict[\"Chatbot Name\"]\n",
      "orgdict[\"Support Email\"]\n",
      "Data Prepared\n",
      "Starting Request\n"
     ]
    }
   ],
   "source": [
    "for key in orgdict:\n",
    "    print('orgdict[\"{}\"]'.format(key))\n",
    "\n",
    "print(\"Data Prepared\")\n",
    "print(\"Starting Request\")"
   ]
  },
  {
   "cell_type": "code",
   "execution_count": 105,
   "metadata": {},
   "outputs": [
    {
     "name": "stdout",
     "output_type": "stream",
     "text": [
      "['Wat is Printmijnstad?', 'Hoe gebruik ik de steden editor?', 'In welke landen is Printmijnstad actief?', 'Hoe gaan jullie om met privacy?', 'Welke producten verkoopt Printmijnstad op dit moment?', 'Hoe gaat Printmijnstad om met duurzaamheid?', 'Wat is de levertijd?', 'Wat zijn de verzendkosten?', 'Welke maten van kaarten zijn er?', 'Verkopen jullie ook lijsten voor de posters?']\n"
     ]
    }
   ],
   "source": [
    "print(questions)"
   ]
  },
  {
   "cell_type": "code",
   "execution_count": 109,
   "metadata": {},
   "outputs": [
    {
     "name": "stdout",
     "output_type": "stream",
     "text": [
      "Response received\n"
     ]
    }
   ],
   "source": [
    "import requests\n",
    "\n",
    "url = \"https://botcreator.ew.r.appspot.com/\"\n",
    "\n",
    "payload = json.dumps({\n",
    "    \"textgen\": \"true\",\n",
    "    \"language\": orgdict[\"Language\"],\n",
    "    \"questions\": questions,\n",
    "    \"answers\": answers,\n",
    "    \"topics\": topics,\n",
    "    \"chatbotName\": orgdict[\"Chatbot Name\"],\n",
    "    \"organizationName\": orgdict[\"Organization\"],\n",
    "    \"supportEmail\": orgdict[\"Support Email\"],\n",
    "    \"handoffType\": \"ticket\"\n",
    "})\n",
    "\n",
    "\n",
    "headers = {\n",
    "  'Content-Type': 'application/json'\n",
    "}\n",
    "\n",
    "response = requests.request(\"POST\", url, headers=headers, data = payload)\n",
    "\n",
    "#print(response.text.encode('utf8'))\n",
    "print(\"Response received\")"
   ]
  },
  {
   "cell_type": "code",
   "execution_count": 110,
   "metadata": {},
   "outputs": [
    {
     "name": "stdout",
     "output_type": "stream",
     "text": [
      "Saved to file\n"
     ]
    }
   ],
   "source": [
    "with open(\"upload_\"+str(orgdict[\"Organization\"])+\",json\", mode='wb') as localfile:     \n",
    "    localfile.write(response.content)\n",
    "\n",
    "print(\"Saved to file\")"
   ]
  },
  {
   "cell_type": "code",
   "execution_count": null,
   "metadata": {},
   "outputs": [],
   "source": []
  }
 ],
 "metadata": {
  "kernelspec": {
   "display_name": "Python 3",
   "language": "python",
   "name": "python3"
  },
  "language_info": {
   "codemirror_mode": {
    "name": "ipython",
    "version": 3
   },
   "file_extension": ".py",
   "mimetype": "text/x-python",
   "name": "python",
   "nbconvert_exporter": "python",
   "pygments_lexer": "ipython3",
   "version": "3.7.6"
  }
 },
 "nbformat": 4,
 "nbformat_minor": 4
}
