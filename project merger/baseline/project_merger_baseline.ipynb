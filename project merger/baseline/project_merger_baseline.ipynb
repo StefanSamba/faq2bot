{
 "cells": [
  {
   "cell_type": "code",
   "execution_count": 69,
   "metadata": {},
   "outputs": [],
   "source": [
    "# Open Projects\n",
    "import json\n",
    "with open('projecta.json') as json_file:\n",
    "    a = json.load(json_file)\n",
    "#with open('projecta.json') as json_file:\n",
    "#    m = json.load(json_file)\n",
    "    #m = json.load(json_file)\n",
    "with open('projectb.json') as json_file:\n",
    "    b = json.load(json_file)\n",
    "#with open('example.json') as json_file:\n",
    "#    example = json.load(json_file)\n"
   ]
  },
  {
   "cell_type": "code",
   "execution_count": 70,
   "metadata": {},
   "outputs": [],
   "source": [
    "\n",
    "\n",
    "#brainId = m['brains'][0]['brain']['brainId']\n",
    "\n",
    "#add flow\n",
    "#m['brains'][0]['flows'].append(b['brains'][0]['flows'][0])\n",
    "\n",
    "#change brain id and add intent\n",
    "#b['brains'][0]['intents'][0]['brainId'] = brainId\n",
    "#m['brains'][0]['intents'].append(b['brains'][0]['intents'][0])\n",
    "\n",
    "#change brain id and add intent\n",
    "#b['brains'][0]['actions'][0]['brainId'] = brainId\n",
    "#m['brains'][0]['actions'].append(b['brains'][0]['actions'][0])\n"
   ]
  },
  {
   "cell_type": "code",
   "execution_count": 71,
   "metadata": {},
   "outputs": [],
   "source": [
    "def merge_flows (prjct_base,prjct_head):\n",
    "    for flow in prjct_head['brains'][0]['flows']:\n",
    "       # print(flow)\n",
    "        prjct_base['brains'][0]['flows'].append(flow)\n",
    "    print(len(prjct_base['brains'][0]['flows']))\n",
    "\n",
    "    return prjct_base\n",
    "    #prjct_base['brains'][0]['flows'].append(prjct_head['brains'][0]['flows'][0])\n"
   ]
  },
  {
   "cell_type": "code",
   "execution_count": 72,
   "metadata": {},
   "outputs": [],
   "source": [
    "def merge_intents (prjct_base,prjct_head):\n",
    "    brainId = prjct_base['brains'][0]['brain']['brainId']\n",
    "    for intent in prjct_head['brains'][0]['intents']:\n",
    "        #print(intent)\n",
    "        prjct_base['brains'][0]['intents'].append(intent)\n",
    "    print(len(prjct_base['brains'][0]['intents']))\n",
    "    return prjct_base\n"
   ]
  },
  {
   "cell_type": "code",
   "execution_count": 73,
   "metadata": {},
   "outputs": [],
   "source": [
    "def merge_actions (prjct_base,prjct_head):\n",
    "    brainId = prjct_base['brains'][0]['brain']['brainId']\n",
    "    for action in prjct_head['brains'][0]['actions']:\n",
    "        #print(intent)\n",
    "        prjct_base['brains'][0]['actions'].append(action)\n",
    "    print(len(prjct_base['brains'][0]['actions']))\n",
    "    return prjct_base\n"
   ]
  },
  {
   "cell_type": "code",
   "execution_count": 74,
   "metadata": {},
   "outputs": [
    {
     "name": "stdout",
     "output_type": "stream",
     "text": [
      "2\n",
      "2\n",
      "2\n"
     ]
    }
   ],
   "source": [
    "new = merge_flows (a,b)\n",
    "new = merge_intents (new,b)\n",
    "new = merge_actions (new,b)"
   ]
  },
  {
   "cell_type": "code",
   "execution_count": 82,
   "metadata": {},
   "outputs": [],
   "source": [
    "with open('projecta_test.json', 'w') as f:\n",
    "    json.dump(new, f)"
   ]
  },
  {
   "cell_type": "code",
   "execution_count": null,
   "metadata": {},
   "outputs": [],
   "source": []
  }
 ],
 "metadata": {
  "kernelspec": {
   "display_name": "Python 3",
   "language": "python",
   "name": "python3"
  },
  "language_info": {
   "codemirror_mode": {
    "name": "ipython",
    "version": 3
   },
   "file_extension": ".py",
   "mimetype": "text/x-python",
   "name": "python",
   "nbconvert_exporter": "python",
   "pygments_lexer": "ipython3",
   "version": "3.7.4"
  }
 },
 "nbformat": 4,
 "nbformat_minor": 2
}
