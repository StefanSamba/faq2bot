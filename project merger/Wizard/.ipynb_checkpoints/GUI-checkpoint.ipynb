{
 "cells": [
  {
   "cell_type": "code",
   "execution_count": 6,
   "metadata": {},
   "outputs": [
    {
     "name": "stdout",
     "output_type": "stream",
     "text": [
      "[]\n"
     ]
    }
   ],
   "source": [
    "\n",
    "from tkinter import *\n",
    "from tkinter import ttk\n",
    "import tkinter\n",
    "\n",
    "main = Tk()\n",
    "#main.resizable(height = 400, width = 400)\n",
    "main.title(\"Kies je categorien\")\n",
    "main.geometry(\"+50+150\")\n",
    "frame = ttk.Frame(main, padding=(3, 3, 12, 12))\n",
    "frame.grid(column=0, row=0, sticky=(N, S, E, W))\n",
    "\n",
    "values = StringVar()\n",
    "values.set([\"Account\",\"Bestellen\",\"Betalen\",\"Bezorgen\",\"Garantie\",\"Retourneren\",\"Reparaties\",\"Overige onderwerpen\"])\n",
    "\n",
    "lstbox = Listbox(frame, listvariable=values, selectmode=MULTIPLE, width=20, height=10)\n",
    "lstbox.grid(column=0, row=0, columnspan=2)\n",
    "\n",
    "topics = []\n",
    "def select():\n",
    "    reslist = list()\n",
    "    selection = lstbox.curselection()\n",
    "    for i in selection:\n",
    "        entrada = lstbox.get(i)\n",
    "        reslist.append(entrada)\n",
    "    for i in reslist:\n",
    "        topics.append(i)\n",
    "    #print(reslist)\n",
    "    main.destroy()\n",
    "\n",
    "\n",
    "\n",
    "btn = ttk.Button(frame, text=\"Kies\", command=select)\n",
    "\n",
    "btn.grid(column=1, row=1)\n",
    "\n",
    "\n",
    "main.mainloop()\n",
    "\n",
    "print(topics)\n"
   ]
  },
  {
   "cell_type": "code",
   "execution_count": null,
   "metadata": {},
   "outputs": [],
   "source": []
  },
  {
   "cell_type": "code",
   "execution_count": null,
   "metadata": {},
   "outputs": [],
   "source": []
  },
  {
   "cell_type": "code",
   "execution_count": null,
   "metadata": {},
   "outputs": [],
   "source": []
  }
 ],
 "metadata": {
  "kernelspec": {
   "display_name": "Python 3",
   "language": "python",
   "name": "python3"
  },
  "language_info": {
   "codemirror_mode": {
    "name": "ipython",
    "version": 3
   },
   "file_extension": ".py",
   "mimetype": "text/x-python",
   "name": "python",
   "nbconvert_exporter": "python",
   "pygments_lexer": "ipython3",
   "version": "3.7.6"
  }
 },
 "nbformat": 4,
 "nbformat_minor": 4
}
