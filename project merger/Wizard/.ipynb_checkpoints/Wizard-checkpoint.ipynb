{
 "cells": [
  {
   "cell_type": "code",
   "execution_count": 171,
   "metadata": {},
   "outputs": [],
   "source": [
    "import json\n"
   ]
  },
  {
   "cell_type": "code",
   "execution_count": 172,
   "metadata": {},
   "outputs": [],
   "source": [
    "with open('retailbot.json') as json_file:\n",
    "    data = json.load(json_file)"
   ]
  },
  {
   "cell_type": "code",
   "execution_count": 173,
   "metadata": {},
   "outputs": [],
   "source": [
    "def find_unique_groups (project):\n",
    "    u_groups = []\n",
    "    flows = project['brains'][0]['flows']\n",
    "    for flow in flows:\n",
    "        if flow['group'] not in u_groups:\n",
    "            u_groups.append(flow['group'])\n",
    "   \n",
    "    return (sorted(u_groups))"
   ]
  },
  {
   "cell_type": "code",
   "execution_count": 174,
   "metadata": {},
   "outputs": [],
   "source": [
    "#create_tailored_menu(data, 123)"
   ]
  },
  {
   "cell_type": "code",
   "execution_count": 175,
   "metadata": {},
   "outputs": [],
   "source": [
    "#find_unique_groups (data)"
   ]
  },
  {
   "cell_type": "code",
   "execution_count": 176,
   "metadata": {},
   "outputs": [],
   "source": [
    "def find_flow(project, flowtitle):\n",
    "    flows = data['brains'][0]['flows']\n",
    "    for flow in flows:\n",
    "        if flow['title'] == flowtitle:\n",
    "            return(flow)\n",
    "        \n",
    "def find_action(project, actionId):\n",
    "    actions = data['brains'][0]['actions']\n",
    "    for action in actions:\n",
    "        if action['actionId'] == actionId:\n",
    "            return(action)\n",
    "        "
   ]
  },
  {
   "cell_type": "code",
   "execution_count": 177,
   "metadata": {},
   "outputs": [],
   "source": [
    "# find_flow(data, \"Menuopties\")"
   ]
  },
  {
   "cell_type": "code",
   "execution_count": 178,
   "metadata": {},
   "outputs": [],
   "source": [
    "def tailor_carousel(project, actionId, topics):\n",
    "    #tailors opening carousel to matching topics\n",
    "    # inputs= project, actionID of carousel + list of topics\n",
    "    # c8bf580a-d2cd-4f0f-9921-3f7f71018098\n",
    "    actions = data['brains'][0]['actions']\n",
    "    for action in actions:\n",
    "        if action['actionId'] == actionId:\n",
    "            cards = (action['payload']['response']['payload']['cards'])\n",
    "            for card in cards:\n",
    "                if card['title'] not in topics:\n",
    "                    cards.remove(card)\n",
    "    return(project)"
   ]
  },
  {
   "cell_type": "code",
   "execution_count": null,
   "metadata": {},
   "outputs": [],
   "source": [
    "tailor_carousel(data, actionId, topics)"
   ]
  },
  {
   "cell_type": "code",
   "execution_count": 179,
   "metadata": {},
   "outputs": [],
   "source": [
    "# INSERT INPUT FROM USER AS TOPICS\n",
    "# example topics list = [\"Account\",\"Bestellen\",\"Betalen\",\"Bezorgen & ophalen\",\"Garantie\",\"Retourneren\",\"Reparaties\",\"Overige onderwerpen\"]\n"
   ]
  },
  {
   "cell_type": "code",
   "execution_count": 180,
   "metadata": {},
   "outputs": [],
   "source": [
    "# disable flows in group that are nog selected\n",
    "selectables = [\"Account\",\"Bestellen\",\"Betalen\",\"Bezorgen\",\"Garantie\",\"Retourneren\",\"Reparaties\",\"Overige onderwerpen\"]\n",
    "selected = ['Account', 'Bestellen', 'Betalen']\n",
    "project = tailor_carousel(data, \"c8bf580a-d2cd-4f0f-9921-3f7f71018098\", selected)\n",
    "\n",
    "def disable_flows (project, selectables, selected):\n",
    "    flows = project['brains'][0]['flows']\n",
    "    for flow in flows:\n",
    "        if flow['group'] in selectables and flow['group'] not in selected:\n",
    "            flow['disabled']=True\n",
    "    return project\n",
    "\n"
   ]
  },
  {
   "cell_type": "code",
   "execution_count": 181,
   "metadata": {},
   "outputs": [],
   "source": [
    "project = disable_flows (data, selectables, selected)"
   ]
  },
  {
   "cell_type": "code",
   "execution_count": 182,
   "metadata": {},
   "outputs": [],
   "source": [
    "#find_action(test, \"c8bf580a-d2cd-4f0f-9921-3f7f71018098\")"
   ]
  },
  {
   "cell_type": "code",
   "execution_count": 183,
   "metadata": {},
   "outputs": [],
   "source": [
    "with open('wizard_import.json', 'w') as f:\n",
    "    json.dump(project, f)"
   ]
  },
  {
   "cell_type": "code",
   "execution_count": null,
   "metadata": {},
   "outputs": [],
   "source": []
  }
 ],
 "metadata": {
  "kernelspec": {
   "display_name": "Python 3",
   "language": "python",
   "name": "python3"
  },
  "language_info": {
   "codemirror_mode": {
    "name": "ipython",
    "version": 3
   },
   "file_extension": ".py",
   "mimetype": "text/x-python",
   "name": "python",
   "nbconvert_exporter": "python",
   "pygments_lexer": "ipython3",
   "version": "3.7.6"
  }
 },
 "nbformat": 4,
 "nbformat_minor": 4
}
