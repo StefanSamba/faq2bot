{
 "cells": [
  {
   "cell_type": "code",
   "execution_count": 1,
   "metadata": {},
   "outputs": [],
   "source": [
    "import json\n",
    "from tkinter import *\n",
    "from tkinter import ttk\n",
    "import tkinter"
   ]
  },
  {
   "cell_type": "code",
   "execution_count": 2,
   "metadata": {},
   "outputs": [],
   "source": [
    "main = Tk()\n",
    "#main.resizable(height = 400, width = 400)\n",
    "main.title(\"Kies je categorien\")\n",
    "main.geometry(\"+50+150\")\n",
    "frame = ttk.Frame(main, padding=(3, 3, 12, 12))\n",
    "frame.grid(column=0, row=0, sticky=(N, S, E, W))\n",
    "\n",
    "values = StringVar()\n",
    "selectables = [\"Account\",\"Bestellen\",\"Betalen\",\"Bezorgen\",\"Garantie\",\"Retourneren\",\"Product\", \"Service\",\"Contact\", \"Handoff Livechat\", \"Handoff Bot only\", \"\"]\n",
    "values.set(selectables)\n",
    "\n",
    "lstbox = Listbox(frame, listvariable=values, selectmode=MULTIPLE, width=20, height=10)\n",
    "lstbox.grid(column=0, row=0, columnspan=2)\n",
    "\n",
    "topics = []\n",
    "def select():\n",
    "    reslist = list()\n",
    "    selection = lstbox.curselection()\n",
    "    for i in selection:\n",
    "        entrada = lstbox.get(i)\n",
    "        reslist.append(entrada)\n",
    "    for i in reslist:\n",
    "        topics.append(i)\n",
    "    main.destroy()\n",
    "btn = ttk.Button(frame, text=\"Kies\", command=select)\n",
    "btn.grid(column=1, row=1)\n",
    "main.mainloop()"
   ]
  },
  {
   "cell_type": "code",
   "execution_count": 3,
   "metadata": {},
   "outputs": [],
   "source": [
    "def find_unique_groups (project):\n",
    "    u_groups = []\n",
    "    flows = project['brains'][0]['flows']\n",
    "    for flow in flows:\n",
    "        if flow['group'] not in u_groups:\n",
    "            u_groups.append(flow['group'])\n",
    "   \n",
    "    return (sorted(u_groups))"
   ]
  },
  {
   "cell_type": "code",
   "execution_count": 4,
   "metadata": {},
   "outputs": [],
   "source": [
    "def find_flow(project, flowtitle):\n",
    "    flows = project['brains'][0]['flows']\n",
    "    for flow in flows:\n",
    "        if flow['title'] == flowtitle:\n",
    "            return(flow)\n",
    "        \n",
    "def find_action(project, actionId):\n",
    "    actions = project['brains'][0]['actions']\n",
    "    for action in actions:\n",
    "        if action['actionId'] == actionId:\n",
    "            return(action)\n",
    "        "
   ]
  },
  {
   "cell_type": "code",
   "execution_count": 5,
   "metadata": {},
   "outputs": [],
   "source": [
    "def tailor_carousel(project, actionId, topics):\n",
    "    #tailors opening carousel to matching topics\n",
    "    # inputs= project, actionID of carousel + list of topics\n",
    "    # c8bf580a-d2cd-4f0f-9921-3f7f71018098\n",
    "    new_cards = []\n",
    "    actions = project['brains'][0]['actions']\n",
    "    for action in actions:\n",
    "        if action['actionId'] == actionId:\n",
    "            cards = (action['payload']['response']['payload']['cards'])\n",
    "            for card in cards:\n",
    "                if card['title'] in topics:\n",
    "                    new_cards.append(card)\n",
    "    for i in range(len(actions)):\n",
    "        if actions[i]['actionId']==actionId:\n",
    "            print(\"Index of Opening carousel in list of Actions:\",i)\n",
    "            project['brains'][0]['actions'][i]['payload']['response']['payload']['cards'] = new_cards\n",
    "    return(project)\n"
   ]
  },
  {
   "cell_type": "code",
   "execution_count": 6,
   "metadata": {},
   "outputs": [],
   "source": [
    "def disable_flows (project, selectables, selected):\n",
    "    # Disable flows of non relevant groups\n",
    "    flows = project['brains'][0]['flows']\n",
    "    for flow in flows:\n",
    "        if flow['group'] in selectables and flow['group'] not in selected:\n",
    "            flow['disabled']=True\n",
    "            #print(\"disabling flow : \", flow['title'])\n",
    "    print(\"Non relevant flows/groups have been disabled\")\n",
    "    print()\n",
    "    return project\n",
    "\n",
    "#test = tailor_carousel(project, \"c8bf580a-d2cd-4f0f-9921-3f7f71018098\", selected)\n",
    "#actionIdOpening = find_flow(project, \"Menuopties\")['steps'][0]['actions'][0][\"actionId\"]"
   ]
  },
  {
   "cell_type": "code",
   "execution_count": 7,
   "metadata": {},
   "outputs": [],
   "source": [
    "def disable_menu(project, selectables, selected):\n",
    "    # Disable non-relevant menuflows in group \"01 Menu's\"\n",
    "    flows = project['brains'][0]['flows']\n",
    "    for flow in flows:\n",
    "        if flow['group'] ==  \"01 Menu's\":\n",
    "            item = flow['title'].split()[-1] \n",
    "            if item in selectables and item not in selected:\n",
    "                flow['disabled']=True\n",
    "                print(\"Disabling menu:\", flow['title'])\n",
    "    print()\n",
    "            #for topic in selected:\n",
    "            #    if topic not in flow['title']:\n",
    "            #        flow['disabled']=True\n",
    "    return project"
   ]
  },
  {
   "cell_type": "code",
   "execution_count": 8,
   "metadata": {},
   "outputs": [
    {
     "name": "stdout",
     "output_type": "stream",
     "text": [
      "Including picked topics : ['Bestellen', 'Betalen', 'Bezorgen']\n",
      "\n",
      "Index of Opening carousel in list of Actions: 85\n",
      "Non relevant flows/groups have been disabled\n",
      "\n",
      "Disabling menu: Menu Account\n",
      "Disabling menu: Menu Contact\n",
      "Disabling menu: Menu Product\n",
      "Disabling menu: Menu Retourneren\n",
      "Disabling menu: Menu Service\n",
      "Disabling menu: Menu Garantie\n",
      "\n",
      "Conversion completed\n"
     ]
    }
   ],
   "source": [
    "# disable flows in group that are nog selected\n",
    "with open('retailbot_cleaned.json') as json_file:\n",
    "    project = json.load(json_file)\n",
    "\n",
    "print(\"Including picked topics :\", topics)\n",
    "print()\n",
    "actionIdOpening = find_flow(project, \"Menuopties\")['steps'][0]['actions'][0][\"actionId\"]\n",
    "#selected = ['Account', 'Bestellen', 'Betalen']\n",
    "selected = topics\n",
    "\n",
    "project = tailor_carousel(project, actionIdOpening, selected)\n",
    "project = disable_flows (project, selectables, selected)\n",
    "project = disable_menu(project, selectables, selected)\n",
    "print(\"Conversion completed\")\n"
   ]
  },
  {
   "cell_type": "code",
   "execution_count": 9,
   "metadata": {},
   "outputs": [],
   "source": [
    "with open('wizard_import.json', 'w') as f:\n",
    "    json.dump(project, f)"
   ]
  },
  {
   "cell_type": "code",
   "execution_count": 10,
   "metadata": {},
   "outputs": [
    {
     "name": "stdout",
     "output_type": "stream",
     "text": [
      "Conversion writen to wizard_import.json. Upload this file onto Flow.ai. See Project Settings -> Backup -> Import\n"
     ]
    }
   ],
   "source": [
    "print(\"Conversion writen to wizard_import.json. Upload this file onto Flow.ai. See Project Settings -> Backup -> Import\")"
   ]
  },
  {
   "cell_type": "code",
   "execution_count": null,
   "metadata": {},
   "outputs": [],
   "source": []
  }
 ],
 "metadata": {
  "kernelspec": {
   "display_name": "Python 3",
   "language": "python",
   "name": "python3"
  },
  "language_info": {
   "codemirror_mode": {
    "name": "ipython",
    "version": 3
   },
   "file_extension": ".py",
   "mimetype": "text/x-python",
   "name": "python",
   "nbconvert_exporter": "python",
   "pygments_lexer": "ipython3",
   "version": "3.7.6"
  }
 },
 "nbformat": 4,
 "nbformat_minor": 4
}
