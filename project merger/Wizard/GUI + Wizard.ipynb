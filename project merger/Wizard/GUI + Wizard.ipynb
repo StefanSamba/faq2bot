{
 "cells": [
  {
   "cell_type": "code",
   "execution_count": 1,
   "metadata": {},
   "outputs": [],
   "source": [
    "import json\n",
    "from tkinter import *\n",
    "from tkinter import ttk\n",
    "import tkinter"
   ]
  },
  {
   "cell_type": "code",
   "execution_count": 2,
   "metadata": {},
   "outputs": [],
   "source": [
    "main = Tk()\n",
    "#main.resizable(height = 400, width = 400)\n",
    "main.title(\"Kies je categorien\")\n",
    "main.geometry(\"+50+150\")\n",
    "frame = ttk.Frame(main, padding=(3, 3, 12, 12))\n",
    "frame.grid(column=0, row=0, sticky=(N, S, E, W))\n",
    "\n",
    "values = StringVar()\n",
    "selectables = [\"Account\",\"Bestellen\",\"Betalen\",\"Bezorgen\",\"Garantie\",\"Retourneren\",\"Product\", \"Service\",\"Contact\", \"Handoff Livechat\", \"Handoff Bot only\", \"Handoff Ticket\"]\n",
    "values.set(selectables)\n",
    "\n",
    "lstbox = Listbox(frame, listvariable=values, selectmode=MULTIPLE, width=20, height=10)\n",
    "lstbox.grid(column=0, row=0, columnspan=2)\n",
    "\n",
    "topics = []\n",
    "def select():\n",
    "    reslist = list()\n",
    "    selection = lstbox.curselection()\n",
    "    for i in selection:\n",
    "        entrada = lstbox.get(i)\n",
    "        reslist.append(entrada)\n",
    "    for i in reslist:\n",
    "        topics.append(i)\n",
    "    main.destroy()\n",
    "btn = ttk.Button(frame, text=\"Kies\", command=select)\n",
    "btn.grid(column=1, row=1)\n",
    "main.mainloop()"
   ]
  },
  {
   "cell_type": "code",
   "execution_count": 3,
   "metadata": {},
   "outputs": [],
   "source": [
    "def find_unique_groups (project):\n",
    "    u_groups = []\n",
    "    flows = project['brains'][0]['flows']\n",
    "    for flow in flows:\n",
    "        if flow['group'] not in u_groups:\n",
    "            u_groups.append(flow['group'])\n",
    "   \n",
    "    return (sorted(u_groups))"
   ]
  },
  {
   "cell_type": "code",
   "execution_count": 4,
   "metadata": {},
   "outputs": [],
   "source": [
    "def find_flow(project, flowtitle):\n",
    "    flows = project['brains'][0]['flows']\n",
    "    for flow in flows:\n",
    "        if flow['title'] == flowtitle:\n",
    "            return(flow)\n",
    "        \n",
    "def find_action(project, actionId):\n",
    "    actions = project['brains'][0]['actions']\n",
    "    for action in actions:\n",
    "        if action['actionId'] == actionId:\n",
    "            return(action)\n",
    "        "
   ]
  },
  {
   "cell_type": "code",
   "execution_count": 5,
   "metadata": {},
   "outputs": [],
   "source": [
    "def tailor_carousel(project, actionId, topics):\n",
    "    #tailors opening carousel to matching topics\n",
    "    # inputs= project, actionID of carousel + list of topics\n",
    "    # c8bf580a-d2cd-4f0f-9921-3f7f71018098\n",
    "    new_cards = []\n",
    "    actions = project['brains'][0]['actions']\n",
    "    for action in actions:\n",
    "        if action['actionId'] == actionId:\n",
    "            cards = (action['payload']['response']['payload']['cards'])\n",
    "            for card in cards:\n",
    "                if card['title'] in topics:\n",
    "                    new_cards.append(card)\n",
    "    for i in range(len(actions)):\n",
    "        if actions[i]['actionId']==actionId:\n",
    "            print(\"Index of Opening carousel in list of Actions:\",i)\n",
    "            project['brains'][0]['actions'][i]['payload']['response']['payload']['cards'] = new_cards\n",
    "    return(project)\n"
   ]
  },
  {
   "cell_type": "code",
   "execution_count": 6,
   "metadata": {},
   "outputs": [],
   "source": [
    "def disable_flows (project, selectables, selected):\n",
    "    # Disable flows of non relevant groups\n",
    "    flows = project['brains'][0]['flows']\n",
    "    for flow in flows:\n",
    "        if flow['group'] in selectables and flow['group'] not in selected:\n",
    "            flow['disabled']=True\n",
    "            #print(\"disabling flow : \", flow['title'])\n",
    "    print(\"Non relevant flows/groups have been disabled\")\n",
    "    print()\n",
    "    return project\n",
    "\n"
   ]
  },
  {
   "cell_type": "code",
   "execution_count": 7,
   "metadata": {},
   "outputs": [],
   "source": [
    "def find_action (project,integrationIitle):\n",
    "    integrations = project['integrations'] \n",
    "    for i in range (len(integrations)):\n",
    "        if integrations[i]['title']==integrationIitle:\n",
    "            print(\"Index of\",integrationIitle, \"is\", i)\n",
    "            #print(integrations[i]['cloudCode'])\n",
    "            return(i)\n",
    "        \n",
    "def replace_cloudcode (project, i, replace, replacewith):\n",
    "    old_cloudcode = project['integrations'][i]['cloudCode']\n",
    "    new_cloudcode = old_cloudcode.replace(replace,replacewith)\n",
    "    project['integrations'][i]['cloudCode']=new_cloudcode\n",
    "    print(replace,\"is replaced with\", replacewith, \"in action\",project['integrations'][i]['title'])\n",
    "    return project"
   ]
  },
  {
   "cell_type": "code",
   "execution_count": 8,
   "metadata": {},
   "outputs": [],
   "source": [
    "def disable_menu(project, selectables, selected):\n",
    "    # Disable non-relevant menuflows in group \"01 Menu's\"\n",
    "    flows = project['brains'][0]['flows']\n",
    "    for flow in flows:\n",
    "        if flow['group'] ==  \"01 Menu's\":\n",
    "            item = flow['title'].split()[-1] \n",
    "            if item in selectables and item not in selected:\n",
    "                flow['disabled']=True\n",
    "                print(\"Disabling menu:\", flow['title'])\n",
    "    print()\n",
    "\n",
    "    return project"
   ]
  },
  {
   "cell_type": "code",
   "execution_count": 9,
   "metadata": {},
   "outputs": [
    {
     "name": "stdout",
     "output_type": "stream",
     "text": [
      "Include picked topics : ['Account', 'Bestellen', 'Betalen', 'Handoff Ticket']\n",
      "\n",
      "Index of Opening carousel in list of Actions: 90\n",
      "Non relevant flows/groups have been disabled\n",
      "\n",
      "Disabling menu: Menu Bezorgen\n",
      "Disabling menu: Menu Contact\n",
      "Disabling menu: Menu Product\n",
      "Disabling menu: Menu Retourneren\n",
      "Disabling menu: Menu Service\n",
      "Disabling menu: Menu Garantie\n",
      "\n",
      "What is your support email?support@flow.ai\n",
      "Index of Send Email is 15\n",
      "naam@domein.nl is replaced with support@flow.ai in action Send Email\n",
      "\n",
      "Conversion completed\n"
     ]
    }
   ],
   "source": [
    "# disable flows in group that are nog selected\n",
    "with open('retailbot_handoffs.json') as json_file:\n",
    "    project = json.load(json_file)\n",
    "\n",
    "print(\"Include picked topics :\", topics)\n",
    "print()\n",
    "actionIdOpening = find_flow(project, \"Menuopties\")['steps'][0]['actions'][0][\"actionId\"]\n",
    "selected = topics\n",
    "\n",
    "project = tailor_carousel(project, actionIdOpening, selected)\n",
    "project = disable_flows (project, selectables, selected)\n",
    "project = disable_menu(project, selectables, selected)\n",
    "\n",
    "# For handoff Ticket, insert support email address\n",
    "if 'Handoff Ticket' in topics:\n",
    "    support_email = str(input(\"What is your support email?\"))\n",
    "    i_send_email = find_action (project,\"Send Email\")\n",
    "    project = replace_cloudcode(project,i_send_email,'naam@domein.nl',support_email)\n",
    "\n",
    "    \n",
    "print()\n",
    "print(\"Conversion completed\")\n"
   ]
  },
  {
   "cell_type": "code",
   "execution_count": 10,
   "metadata": {},
   "outputs": [],
   "source": [
    "with open('wizard_import.json', 'w') as f:\n",
    "    json.dump(project, f)"
   ]
  },
  {
   "cell_type": "code",
   "execution_count": 11,
   "metadata": {},
   "outputs": [
    {
     "name": "stdout",
     "output_type": "stream",
     "text": [
      "Conversion writen to wizard_import.json. Upload this file onto Flow.ai. See Project Settings -> Backup -> Import\n"
     ]
    }
   ],
   "source": [
    "print(\"Conversion writen to wizard_import.json. Upload this file onto Flow.ai. See Project Settings -> Backup -> Import\")"
   ]
  },
  {
   "cell_type": "code",
   "execution_count": null,
   "metadata": {},
   "outputs": [],
   "source": []
  },
  {
   "cell_type": "code",
   "execution_count": null,
   "metadata": {},
   "outputs": [],
   "source": []
  },
  {
   "cell_type": "code",
   "execution_count": null,
   "metadata": {},
   "outputs": [],
   "source": []
  },
  {
   "cell_type": "code",
   "execution_count": 12,
   "metadata": {},
   "outputs": [],
   "source": [
    "#action title = Send Email"
   ]
  },
  {
   "cell_type": "code",
   "execution_count": null,
   "metadata": {},
   "outputs": [],
   "source": []
  },
  {
   "cell_type": "code",
   "execution_count": null,
   "metadata": {},
   "outputs": [],
   "source": [
    "\n",
    "    "
   ]
  },
  {
   "cell_type": "code",
   "execution_count": 13,
   "metadata": {},
   "outputs": [],
   "source": [
    "\n",
    "#print(test['integrations'][15]['cloudCode'])"
   ]
  },
  {
   "cell_type": "code",
   "execution_count": 14,
   "metadata": {},
   "outputs": [
    {
     "ename": "SyntaxError",
     "evalue": "invalid syntax (<ipython-input-14-4a4999269251>, line 3)",
     "output_type": "error",
     "traceback": [
      "\u001b[0;36m  File \u001b[0;32m\"<ipython-input-14-4a4999269251>\"\u001b[0;36m, line \u001b[0;32m3\u001b[0m\n\u001b[0;31m    def request_support_email()\u001b[0m\n\u001b[0m                               ^\u001b[0m\n\u001b[0;31mSyntaxError\u001b[0m\u001b[0;31m:\u001b[0m invalid syntax\n"
     ]
    }
   ],
   "source": [
    "from tkinter import *\n",
    "\n",
    "def request_support_email()\n",
    "master = Tk()\n",
    "e = Entry(master)\n",
    "e.pack()\n",
    "\n",
    "e.focus_set()\n",
    "\n",
    "def callback():\n",
    "    print (e.get()) # This is the text you may want to use later\n",
    "\n",
    "b = Button(master, text = \"OK\", width = 10, command = callback)\n",
    "b.pack()\n",
    "\n",
    "mainloop()"
   ]
  },
  {
   "cell_type": "code",
   "execution_count": null,
   "metadata": {},
   "outputs": [],
   "source": [
    "import tkinter as tk\n",
    "\n",
    "root = tk.Tk()\n",
    "root.wm_geometry(\"800x600\")\n",
    "dialog = tk.Toplevel(root)\n",
    "root_name = root.winfo_pathname(root.winfo_id())\n",
    "dialog_name = dialog.winfo_pathname(dialog.winfo_id())\n",
    "root.tk.eval('tk::PlaceWindow {0} widget {1}'.format(dialog_name, root_name))\n",
    "root.mainloop()"
   ]
  },
  {
   "cell_type": "code",
   "execution_count": null,
   "metadata": {},
   "outputs": [],
   "source": [
    "request_support_email()"
   ]
  },
  {
   "cell_type": "code",
   "execution_count": null,
   "metadata": {},
   "outputs": [],
   "source": []
  }
 ],
 "metadata": {
  "kernelspec": {
   "display_name": "Python 3",
   "language": "python",
   "name": "python3"
  },
  "language_info": {
   "codemirror_mode": {
    "name": "ipython",
    "version": 3
   },
   "file_extension": ".py",
   "mimetype": "text/x-python",
   "name": "python",
   "nbconvert_exporter": "python",
   "pygments_lexer": "ipython3",
   "version": "3.7.6"
  }
 },
 "nbformat": 4,
 "nbformat_minor": 4
}
