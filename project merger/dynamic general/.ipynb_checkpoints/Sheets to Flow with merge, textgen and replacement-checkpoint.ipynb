{
 "cells": [
  {
   "cell_type": "code",
   "execution_count": 1,
   "metadata": {},
   "outputs": [],
   "source": [
    "import json\n",
    "import random, string\n",
    "import pandas as pd\n",
    "import numpy as np\n",
    "from collections import defaultdict\n",
    "import requests\n"
   ]
  },
  {
   "cell_type": "markdown",
   "metadata": {},
   "source": [
    "# Functions"
   ]
  },
  {
   "cell_type": "markdown",
   "metadata": {},
   "source": [
    "## Create Flow Steps"
   ]
  },
  {
   "cell_type": "code",
   "execution_count": 2,
   "metadata": {},
   "outputs": [],
   "source": [
    "def createflowsteps (title, actionId, intentId, stepId):#\n",
    "    return [{'meta': {'audioHashes': []},\n",
    "   'type': 'INTENT',\n",
    "   'title': title,\n",
    "   'contexts': [],\n",
    "   'actions': [{'actionId': actionId}],\n",
    "   'children': [],\n",
    "   'stepId': stepId,\n",
    "   'intent': {'intentId': intentId}}]\n",
    "# createflowsteps ('Intent 1','a','i','s') "
   ]
  },
  {
   "cell_type": "markdown",
   "metadata": {},
   "source": [
    "## Create Flows"
   ]
  },
  {
   "cell_type": "code",
   "execution_count": 3,
   "metadata": {},
   "outputs": [],
   "source": [
    "def createflow (title, actionId, flowId, intentId, stepId):\n",
    "    return {\n",
    "        'flowId': '4cc34237-cbd9-4e08-8a4e-d1104c34ea5b',\n",
    "        'disabled': False,\n",
    "        'group': 'FAQ',\n",
    "        'metadata': [],\n",
    "        'steps': createflowsteps (title, actionId, intentId, stepId),\n",
    "        'title': title}\n",
    "# createflow ('title', \"actionId\", \"flowId\", \"intentId\", \"stepId\")"
   ]
  },
  {
   "cell_type": "markdown",
   "metadata": {},
   "source": [
    "## Create Intents"
   ]
  },
  {
   "cell_type": "code",
   "execution_count": 4,
   "metadata": {},
   "outputs": [],
   "source": [
    "def createintent (title, brainId, intentId):\n",
    "    return {\n",
    "        'brainId': brainId,\n",
    "        'intentId': intentId,\n",
    "        'accuracy': 15.38,\n",
    "        'disableTraining': False,\n",
    "        'examples': [\n",
    "            {'entities': [], 'query': title},\n",
    "            ],\n",
    "         'title': title}\n",
    "# createintent ('title', \"brains\", \"intents\")"
   ]
  },
  {
   "cell_type": "markdown",
   "metadata": {},
   "source": [
    "## Create Actions"
   ]
  },
  {
   "cell_type": "code",
   "execution_count": 5,
   "metadata": {},
   "outputs": [],
   "source": [
    "def createaction (actionId, brainId, answer):\n",
    "    return {\n",
    "        'actionId': actionId,\n",
    "        'brainId': brainId,\n",
    "        'payload': {'texts': [answer], 'quickReplies': [], 'tags': []},\n",
    "        'type': 'TEXT'}\n",
    "# createintent ('title', \"brains\", \"intents\")"
   ]
  },
  {
   "cell_type": "markdown",
   "metadata": {},
   "source": [
    "## Text Generation Service"
   ]
  },
  {
   "cell_type": "code",
   "execution_count": 6,
   "metadata": {},
   "outputs": [],
   "source": [
    "# TextGen API\n",
    "def textgen(sentence, lang):\n",
    "    \n",
    "    url = \"https://textgenapp-259408.appspot.com/textgen\"\n",
    "\n",
    "    payload = {\n",
    "        'input sentences': [sentence],\n",
    "        'lang': lang\n",
    "    }\n",
    "    headers = {\n",
    "        'Content-Type': \"application/json\",\n",
    "        'User-Agent': \"PostmanRuntime/7.19.0\",\n",
    "        'Accept': \"*/*\",\n",
    "        'Cache-Control': \"no-cache\",\n",
    "        'Postman-Token': \"e6565f73-3b8d-4dff-82c6-8b5ef3c969ec,6118f8fa-8824-419b-8558-5e84893cc8c9\",\n",
    "        'Host': \"textgenapp-259408.appspot.com\",\n",
    "        'Accept-Encoding': \"gzip, deflate\",\n",
    "        'Content-Length': \"89\",\n",
    "        'Connection': \"keep-alive\",\n",
    "        'cache-control': \"no-cache\"\n",
    "        }\n",
    "    \n",
    "    example = str(json.dumps(payload))\n",
    "    # print(example)\n",
    "    response = requests.request(\"POST\", url, data=example, headers=headers)\n",
    "    return(response)\n",
    "    "
   ]
  },
  {
   "cell_type": "code",
   "execution_count": 7,
   "metadata": {},
   "outputs": [],
   "source": [
    "# Get Trainings Data from API in list\n",
    "def get_td (sentence, lang):\n",
    "    response = textgen(sentence,lang)\n",
    "    json_data = json.loads(response.text)\n",
    "    td = [item[0] for item in json_data]\n",
    "    return td"
   ]
  },
  {
   "cell_type": "code",
   "execution_count": 8,
   "metadata": {},
   "outputs": [],
   "source": [
    "# create training examples\n",
    "def create_td (list_sentences):\n",
    "    td = []\n",
    "    for example in list_sentences:  \n",
    "         td.append({'entities': [], 'query': example})\n",
    "    return td"
   ]
  },
  {
   "cell_type": "markdown",
   "metadata": {},
   "source": [
    "## Key Generator"
   ]
  },
  {
   "cell_type": "code",
   "execution_count": 9,
   "metadata": {},
   "outputs": [],
   "source": [
    "def keygen():\n",
    "    k = ''.join(random.choice(string.ascii_lowercase + string.digits) for _ in range(16))\n",
    "    return k"
   ]
  },
  {
   "cell_type": "markdown",
   "metadata": {},
   "source": [
    "# Get FAQ's from Spreadsheet\n"
   ]
  },
  {
   "cell_type": "code",
   "execution_count": null,
   "metadata": {},
   "outputs": [],
   "source": [
    "\n"
   ]
  },
  {
   "cell_type": "code",
   "execution_count": 10,
   "metadata": {},
   "outputs": [],
   "source": [
    "def create_flows_intents_actions (project, list_of_questions, list_of_answers):\n",
    "    keys = [\"actionId\",\"intentId\", \"flowId\", \"stepId\"]\n",
    "    brainId = keygen()\n",
    "    \n",
    "    flows = []\n",
    "    intents = []\n",
    "    actions = []\n",
    "    \n",
    "    for i in range(len(questions)):\n",
    "        title = questions[i]\n",
    "        answer = answers[i]\n",
    "        dkeys = {}\n",
    "        for key in keys:\n",
    "            dkeys[key]=keygen()\n",
    "        #print(dkeys)\n",
    "        flows.append (createflow (title, dkeys[\"actionId\"] ,dkeys[\"flowId\"], dkeys[\"intentId\"], dkeys[\"stepId\"]))\n",
    "        intents.append (createintent (title, brainId, dkeys[\"intentId\"]))\n",
    "        actions.append (createaction (dkeys[\"actionId\"], brainId, answer) )\n",
    "        #print()\n",
    "        \n",
    "    project['brains'][0]['flows'] = flows\n",
    "    project['brains'][0]['intents'] = intents\n",
    "    project['brains'][0]['actions'] = actions\n",
    "    return project\n",
    "\n",
    "\n"
   ]
  },
  {
   "cell_type": "markdown",
   "metadata": {},
   "source": [
    "keys = [\"actionId\",\"intentId\", \"flowId\", \"stepId\"]\n",
    "brainId = keygen()\n",
    "\n",
    "flows = []\n",
    "intents = []\n",
    "actions = []\n",
    "for i in range(len(questions)):\n",
    "    title = questions[i]\n",
    "    answer = answers[i]\n",
    "    dkeys = {}\n",
    "    for key in keys:\n",
    "        dkeys[key]=keygen()\n",
    "    #print(dkeys)\n",
    "    flows.append (createflow (title, dkeys[\"actionId\"] ,dkeys[\"flowId\"], dkeys[\"intentId\"], dkeys[\"stepId\"]))\n",
    "    intents.append (createintent (title, brainId, dkeys[\"intentId\"]))\n",
    "    actions.append (createaction (dkeys[\"actionId\"], brainId, answer) )\n",
    "    #print()"
   ]
  },
  {
   "cell_type": "markdown",
   "metadata": {},
   "source": [
    "# Add training examples from TextGen\n"
   ]
  },
  {
   "cell_type": "code",
   "execution_count": 11,
   "metadata": {},
   "outputs": [],
   "source": [
    "def add_textgen (project):\n",
    "    intents = project['brains'][0]['intents']\n",
    "    for i in range(len(intents)):\n",
    "        examples = intents[i]['examples']\n",
    "        in_tg = examples[0]['query']\n",
    "        listtd = get_td (in_tg, \"nl\")\n",
    "        listtd.append(in_tg)\n",
    "        examples = create_td (listtd)\n",
    "        project['brains'][0]['intents'][i]['examples']=examples\n",
    "    return project\n"
   ]
  },
  {
   "cell_type": "code",
   "execution_count": 12,
   "metadata": {},
   "outputs": [],
   "source": [
    "#with open('uploadthisfiletoflow.json') as json_file:\n"
   ]
  },
  {
   "cell_type": "code",
   "execution_count": 13,
   "metadata": {},
   "outputs": [],
   "source": [
    "#with open('uploadwithexamples.json', 'w') as f:\n",
    "#    json.dump(tg, f)"
   ]
  },
  {
   "cell_type": "markdown",
   "metadata": {},
   "source": [
    "# Merge with base"
   ]
  },
  {
   "cell_type": "code",
   "execution_count": 14,
   "metadata": {},
   "outputs": [],
   "source": [
    "\n",
    "\n",
    "def merge_flows (prjct_base,prjct_head):\n",
    "    for flow in prjct_head['brains'][0]['flows']:\n",
    "        prjct_base['brains'][0]['flows'].append(flow)\n",
    "    return prjct_base\n",
    "\n",
    "def merge_intents (prjct_base,prjct_head):\n",
    "    brainId = prjct_base['brains'][0]['brain']['brainId']\n",
    "    for intent in prjct_head['brains'][0]['intents']:\n",
    "        prjct_base['brains'][0]['intents'].append(intent)\n",
    "    return prjct_base\n",
    "\n",
    "def merge_actions (prjct_base,prjct_head):\n",
    "    brainId = prjct_base['brains'][0]['brain']['brainId']\n",
    "    for action in prjct_head['brains'][0]['actions']:\n",
    "        prjct_base['brains'][0]['actions'].append(action)\n",
    "    return prjct_base"
   ]
  },
  {
   "cell_type": "markdown",
   "metadata": {},
   "source": [
    "# Replace with organzation info & carousel image"
   ]
  },
  {
   "cell_type": "code",
   "execution_count": 15,
   "metadata": {},
   "outputs": [],
   "source": [
    "def find_flow (project, flowname):\n",
    "    for flow in merged['brains'][0]['flows']:\n",
    "        if flow['title']==flowname:\n",
    "            return(flow)\n",
    "    print(\"No flow found\")\n"
   ]
  },
  {
   "cell_type": "code",
   "execution_count": 16,
   "metadata": {},
   "outputs": [],
   "source": [
    "def find_action (project,actionId):\n",
    "    for action in merged['brains'][0]['actions']:\n",
    "        if action['actionId']==actionId:\n",
    "            return(action)\n",
    "    print(\"No action found\")\n",
    "        \n",
    "def find_integration (project,integrationId):\n",
    "    for i in range(len(project['integrations'])):\n",
    "        if project['integrations']['integrationId']==integrationId:\n",
    "            print(\"integration index : \",i)\n",
    "            return project['integrations'][i]\n",
    "        \n"
   ]
  },
  {
   "cell_type": "code",
   "execution_count": 17,
   "metadata": {},
   "outputs": [],
   "source": [
    "# fill opening with organization name and chatbot name\n",
    "def create_opening (project, organizationName, chatbotName):\n",
    "    openingflow = find_flow (merged, \"02 Opening\")\n",
    "    firstactionId = openingflow['steps'][0]['actions'][0]['actionId']\n",
    "    brainId = project['brains'][0]['brain']['brainId']\n",
    "    \n",
    "    opening = {'actionId': firstactionId,\n",
    "     'brainId': brainId,\n",
    "     'payload': {'texts': ['Welkom bij {}! Ik ben {}, jouw virtuele assistent.'.format((organizationName),chatbotName)],\n",
    "      'quickReplies': [],\n",
    "      'tags': []},\n",
    "     'type': 'TEXT'}\n",
    "    \n",
    "    actions = project['brains'][0]['actions']\n",
    "    for i in range(len(actions)):\n",
    "        if actions[i]['actionId'] == firstactionId:\n",
    "            print(\"index of opening actions \",i)\n",
    "            project['brains'][0]['actions'][i]=opening\n",
    "            \n",
    "    return project\n",
    "\n"
   ]
  },
  {
   "cell_type": "code",
   "execution_count": 18,
   "metadata": {},
   "outputs": [],
   "source": [
    "\n",
    "def create_card (topic, list_of_questions, imgurl):\n",
    "    return {'title': 'Swipe en select below <👇>',\n",
    "      'subtitle': topic,\n",
    "      'buttons': create_button (list_of_questions),\n",
    "      'media': create_media ('https://source.unsplash.com/featured/?'+str(topic))}"
   ]
  },
  {
   "cell_type": "code",
   "execution_count": 19,
   "metadata": {},
   "outputs": [],
   "source": [
    "def create_button (list_of_questions):\n",
    "    buttons = []\n",
    "    for question in list_of_questions:\n",
    "        buttons.append({'label': question, 'type': 'postback', 'value': question})\n",
    "        if len(buttons)==3:\n",
    "            continue\n",
    "    return buttons\n",
    "\n",
    "#images only\n",
    "def create_media (imgurl):\n",
    "    return {'type': 'image','url': imgurl}\n",
    "\n"
   ]
  },
  {
   "cell_type": "code",
   "execution_count": 20,
   "metadata": {},
   "outputs": [],
   "source": [
    "def create_carousel (project, list_unique_topics):\n",
    "\n",
    "    menuflow = find_flow (a, \"03 Menu\")\n",
    "    carouselactionId = menuflow['steps'][1]['actions'][0]['actionId']\n",
    "    brainId = project['brains'][0]['brain']['brainId']\n",
    "\n",
    "    \n",
    "    \n",
    "    opening_carousel = {'actionId': carouselactionId,\n",
    "     'brainId': brainId,\n",
    "     'payload': {'fallback': '',\n",
    "      'response': {'type': 'carousel',\n",
    "       'payload': {'cards': []\n",
    "                  }\n",
    "                  },\n",
    "      'tags': []},\n",
    "     'type': 'CAROUSEL'}\n",
    "    \n",
    "    for topic in unique_topics:\n",
    "        q = list(df.loc[df['Topic'] == topic, 'Questions'])\n",
    "        card = create_card (topic, q, \"imgurl\")\n",
    "        opening_carousel['payload']['response']['payload']['cards'].append(card)\n",
    "    \n",
    "    \n",
    "    #project['brains'][0]['actions'][4] = opening_carousel\n",
    "    \n",
    "    actions = project['brains'][0]['actions']\n",
    "    for i in range(len(actions)):\n",
    "        if actions[i]['actionId'] == carouselactionId:\n",
    "            print(\"index of carousel actions \",i)\n",
    "            project['brains'][0]['actions'][i]=opening_carousel\n",
    "            \n",
    "    \n",
    "    return project\n",
    "    \n"
   ]
  },
  {
   "cell_type": "markdown",
   "metadata": {},
   "source": [
    "# Replace Handoff email adress"
   ]
  },
  {
   "cell_type": "code",
   "execution_count": 21,
   "metadata": {},
   "outputs": [],
   "source": [
    "def replace_handoff_email (project, supportemail):\n",
    "    integration = project['integrations'][3]\n",
    "    CC = integration['cloudCode']\n",
    "    CC = CC.replace(\"Support Email\",(supportemail))\n",
    "    integration['cloudCoude']= CC\n",
    "    project['integrations'][3]['cloudCode'] = CC\n",
    "    return project"
   ]
  },
  {
   "cell_type": "code",
   "execution_count": 22,
   "metadata": {},
   "outputs": [],
   "source": [
    "# get FAQs\n",
    "\n",
    "# Open base\n",
    "with open('export.json') as json_file:\n",
    "    data = json.load(json_file)\n",
    "\n",
    "# Work with XSLX and define variables\n",
    "xls = pd.ExcelFile('FAQ.xlsx')\n",
    "df1 = pd.read_excel(xls, \"FAQ's\")\n",
    "df = pd.DataFrame()\n",
    "df['Questions']=list(df1['Question'])\n",
    "df['Answers']=list(df1['Answer'])\n",
    "df['Topic']=list(df1['Topic'])\n",
    "n_items = max(df.count())\n",
    "qa = df[:n_items]\n",
    "# get Organization Info\n",
    "df2 = pd.read_excel(xls, \"Introduction\")\n",
    "df2.columns = ['row', 'faq2bot instruction', 'none', 'label', 'value']\n",
    "orgdict = df2.set_index('label')['value'].to_dict()\n",
    "questions = list(qa['Questions'])\n",
    "answers = list(qa['Answers'])\n",
    "\n",
    "#create from excel\n",
    "data = create_flows_intents_actions (data, questions, answers)\n",
    "\n",
    "#tg = add_textgen (data)\n",
    "with open('test.json') as json_file:\n",
    "    a = json.load(json_file)\n",
    "b = data #change to tg / data\n",
    "\n",
    "new = merge_flows (a,b)\n"
   ]
  },
  {
   "cell_type": "code",
   "execution_count": 23,
   "metadata": {},
   "outputs": [
    {
     "name": "stdout",
     "output_type": "stream",
     "text": [
      "index of opening actions  13\n"
     ]
    }
   ],
   "source": [
    "new = merge_intents (new,b)\n",
    "merged = merge_actions (new,b)\n",
    "merged = create_opening (merged, orgdict['Organization'], orgdict['Chatbot Name'])\n"
   ]
  },
  {
   "cell_type": "code",
   "execution_count": 24,
   "metadata": {},
   "outputs": [],
   "source": [
    "unique_topics = sorted(df.Topic.unique())\n"
   ]
  },
  {
   "cell_type": "code",
   "execution_count": 25,
   "metadata": {},
   "outputs": [
    {
     "name": "stdout",
     "output_type": "stream",
     "text": [
      "index of carousel actions  4\n"
     ]
    }
   ],
   "source": [
    "merged = create_carousel (merged, unique_topics)\n",
    "merged = replace_handoff_email (merged, orgdict['Support Email'])"
   ]
  },
  {
   "cell_type": "code",
   "execution_count": 26,
   "metadata": {},
   "outputs": [],
   "source": [
    "with open('merged_projects.json', 'w') as f:\n",
    "    json.dump(merged, f)"
   ]
  },
  {
   "cell_type": "code",
   "execution_count": 27,
   "metadata": {},
   "outputs": [
    {
     "name": "stdout",
     "output_type": "stream",
     "text": [
      "done\n"
     ]
    }
   ],
   "source": [
    "print(\"done\")"
   ]
  },
  {
   "cell_type": "code",
   "execution_count": null,
   "metadata": {},
   "outputs": [],
   "source": []
  },
  {
   "cell_type": "code",
   "execution_count": 42,
   "metadata": {},
   "outputs": [],
   "source": [
    "feedbackyes = find_flow(merged, \"06 Feedback\")['steps'][1]['actions'][1]['actionId']"
   ]
  },
  {
   "cell_type": "code",
   "execution_count": 43,
   "metadata": {},
   "outputs": [
    {
     "data": {
      "text/plain": [
       "'464c54eb-344d-449a-a5f3-40e58d9d84c1'"
      ]
     },
     "execution_count": 43,
     "metadata": {},
     "output_type": "execute_result"
    }
   ],
   "source": [
    "feedbackyes"
   ]
  },
  {
   "cell_type": "code",
   "execution_count": 44,
   "metadata": {},
   "outputs": [
    {
     "data": {
      "text/plain": [
       "{'actionId': '464c54eb-344d-449a-a5f3-40e58d9d84c1',\n",
       " 'brainId': '5593699a-fd9b-4c49-a478-d9463ee2a9b2',\n",
       " 'payload': {'texts': ['Super, mocht je meer vragen hebben, stel ze gerust. ^ Chatbot Name 🤖'],\n",
       "  'quickReplies': [],\n",
       "  'tags': []},\n",
       " 'type': 'TEXT'}"
      ]
     },
     "execution_count": 44,
     "metadata": {},
     "output_type": "execute_result"
    }
   ],
   "source": [
    "find_action(merged,feedbackyes)"
   ]
  },
  {
   "cell_type": "code",
   "execution_count": null,
   "metadata": {},
   "outputs": [],
   "source": []
  }
 ],
 "metadata": {
  "kernelspec": {
   "display_name": "Python 3",
   "language": "python",
   "name": "python3"
  },
  "language_info": {
   "codemirror_mode": {
    "name": "ipython",
    "version": 3
   },
   "file_extension": ".py",
   "mimetype": "text/x-python",
   "name": "python",
   "nbconvert_exporter": "python",
   "pygments_lexer": "ipython3",
   "version": "3.7.6"
  }
 },
 "nbformat": 4,
 "nbformat_minor": 2
}
