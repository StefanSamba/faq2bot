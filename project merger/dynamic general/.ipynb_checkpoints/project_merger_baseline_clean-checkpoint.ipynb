{
 "cells": [
  {
   "cell_type": "code",
   "execution_count": 1,
   "metadata": {},
   "outputs": [],
   "source": [
    "import json\n",
    "with open('general nl.json') as json_file:\n",
    "    a = json.load(json_file)\n",
    "with open('uploadwithexamples.json') as json_file:\n",
    "    b = json.load(json_file)\n",
    "\n"
   ]
  },
  {
   "cell_type": "code",
   "execution_count": 2,
   "metadata": {},
   "outputs": [],
   "source": [
    "def merge_flows (prjct_base,prjct_head):\n",
    "    for flow in prjct_head['brains'][0]['flows']:\n",
    "        prjct_base['brains'][0]['flows'].append(flow)\n",
    "    return prjct_base"
   ]
  },
  {
   "cell_type": "code",
   "execution_count": 3,
   "metadata": {},
   "outputs": [],
   "source": [
    "def merge_intents (prjct_base,prjct_head):\n",
    "    brainId = prjct_base['brains'][0]['brain']['brainId']\n",
    "    for intent in prjct_head['brains'][0]['intents']:\n",
    "        prjct_base['brains'][0]['intents'].append(intent)\n",
    "    return prjct_base"
   ]
  },
  {
   "cell_type": "code",
   "execution_count": 4,
   "metadata": {},
   "outputs": [],
   "source": [
    "def merge_actions (prjct_base,prjct_head):\n",
    "    brainId = prjct_base['brains'][0]['brain']['brainId']\n",
    "    for action in prjct_head['brains'][0]['actions']:\n",
    "        prjct_base['brains'][0]['actions'].append(action)\n",
    "    return prjct_base\n"
   ]
  },
  {
   "cell_type": "code",
   "execution_count": 5,
   "metadata": {},
   "outputs": [],
   "source": [
    "new = merge_flows (a,b)\n",
    "new = merge_intents (new,b)\n",
    "new = merge_actions (new,b)"
   ]
  },
  {
   "cell_type": "code",
   "execution_count": 6,
   "metadata": {},
   "outputs": [],
   "source": [
    "with open('merged_projects.json', 'w') as f:\n",
    "    json.dump(new, f)"
   ]
  },
  {
   "cell_type": "code",
   "execution_count": null,
   "metadata": {},
   "outputs": [],
   "source": []
  }
 ],
 "metadata": {
  "kernelspec": {
   "display_name": "Python 3",
   "language": "python",
   "name": "python3"
  },
  "language_info": {
   "codemirror_mode": {
    "name": "ipython",
    "version": 3
   },
   "file_extension": ".py",
   "mimetype": "text/x-python",
   "name": "python",
   "nbconvert_exporter": "python",
   "pygments_lexer": "ipython3",
   "version": "3.7.4"
  }
 },
 "nbformat": 4,
 "nbformat_minor": 2
}
