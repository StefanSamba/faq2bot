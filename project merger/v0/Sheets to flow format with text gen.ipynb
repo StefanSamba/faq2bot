{
 "cells": [
  {
   "cell_type": "code",
   "execution_count": 1,
   "metadata": {},
   "outputs": [],
   "source": [
    "import json\n",
    "import random, string\n",
    "import pandas as pd\n",
    "import numpy as np\n",
    "from collections import defaultdict\n",
    "import requests\n"
   ]
  },
  {
   "cell_type": "markdown",
   "metadata": {},
   "source": [
    "# Loading data"
   ]
  },
  {
   "cell_type": "code",
   "execution_count": 2,
   "metadata": {},
   "outputs": [],
   "source": [
    "with open('export.json') as json_file:\n",
    "    data = json.load(json_file)"
   ]
  },
  {
   "cell_type": "markdown",
   "metadata": {},
   "source": [
    "# Functions"
   ]
  },
  {
   "cell_type": "markdown",
   "metadata": {},
   "source": [
    "## Create Flow Steps"
   ]
  },
  {
   "cell_type": "code",
   "execution_count": 3,
   "metadata": {},
   "outputs": [],
   "source": [
    "def createflowsteps (title, actionId, intentId, stepId):#\n",
    "    return [{'meta': {'audioHashes': []},\n",
    "   'type': 'INTENT',\n",
    "   'title': title,\n",
    "   'contexts': [],\n",
    "   'actions': [{'actionId': actionId}],\n",
    "   'children': [],\n",
    "   'stepId': stepId,\n",
    "   'intent': {'intentId': intentId}}]\n",
    "# createflowsteps ('Intent 1','a','i','s') "
   ]
  },
  {
   "cell_type": "markdown",
   "metadata": {},
   "source": [
    "## Create Flows"
   ]
  },
  {
   "cell_type": "code",
   "execution_count": 4,
   "metadata": {},
   "outputs": [],
   "source": [
    "def createflow (title, actionId, flowId, intentId, stepId):\n",
    "    return {\n",
    "        'flowId': '4cc34237-cbd9-4e08-8a4e-d1104c34ea5b',\n",
    "        'disabled': False,\n",
    "        'group': 'FAQ',\n",
    "        'metadata': [],\n",
    "        'steps': createflowsteps (title, actionId, intentId, stepId),\n",
    "        'title': title}\n",
    "# createflow ('title', \"actionId\", \"flowId\", \"intentId\", \"stepId\")"
   ]
  },
  {
   "cell_type": "markdown",
   "metadata": {},
   "source": [
    "## Create Intents"
   ]
  },
  {
   "cell_type": "code",
   "execution_count": 5,
   "metadata": {},
   "outputs": [],
   "source": [
    "def createintent (title, brainId, intentId):\n",
    "    return {\n",
    "        'brainId': brainId,\n",
    "        'intentId': intentId,\n",
    "        'accuracy': 15.38,\n",
    "        'disableTraining': False,\n",
    "        'examples': [\n",
    "            {'entities': [], 'query': title},\n",
    "            ],\n",
    "         'title': title}\n",
    "# createintent ('title', \"brains\", \"intents\")"
   ]
  },
  {
   "cell_type": "markdown",
   "metadata": {},
   "source": [
    "## Create Actions"
   ]
  },
  {
   "cell_type": "code",
   "execution_count": 6,
   "metadata": {},
   "outputs": [],
   "source": [
    "def createaction (actionId, brainId, answer):\n",
    "    return {\n",
    "        'actionId': actionId,\n",
    "        'brainId': brainId,\n",
    "        'payload': {'texts': [answer], 'quickReplies': [], 'tags': []},\n",
    "        'type': 'TEXT'}\n",
    "# createintent ('title', \"brains\", \"intents\")"
   ]
  },
  {
   "cell_type": "markdown",
   "metadata": {},
   "source": [
    "## Text Generation Service"
   ]
  },
  {
   "cell_type": "code",
   "execution_count": 7,
   "metadata": {},
   "outputs": [],
   "source": [
    "# TextGen API\n",
    "def textgen(sentence, lang):\n",
    "    \n",
    "    url = \"https://textgenapp-259408.appspot.com/textgen\"\n",
    "\n",
    "    payload = {\n",
    "        'input sentences': [sentence],\n",
    "        'lang': lang\n",
    "    }\n",
    "    headers = {\n",
    "        'Content-Type': \"application/json\",\n",
    "        'User-Agent': \"PostmanRuntime/7.19.0\",\n",
    "        'Accept': \"*/*\",\n",
    "        'Cache-Control': \"no-cache\",\n",
    "        'Postman-Token': \"e6565f73-3b8d-4dff-82c6-8b5ef3c969ec,6118f8fa-8824-419b-8558-5e84893cc8c9\",\n",
    "        'Host': \"textgenapp-259408.appspot.com\",\n",
    "        'Accept-Encoding': \"gzip, deflate\",\n",
    "        'Content-Length': \"89\",\n",
    "        'Connection': \"keep-alive\",\n",
    "        'cache-control': \"no-cache\"\n",
    "        }\n",
    "    \n",
    "    example = str(json.dumps(payload))\n",
    "    # print(example)\n",
    "    response = requests.request(\"POST\", url, data=example, headers=headers)\n",
    "    return(response)\n",
    "    "
   ]
  },
  {
   "cell_type": "code",
   "execution_count": 8,
   "metadata": {},
   "outputs": [],
   "source": [
    "# Get Trainings Data from API in list\n",
    "def get_td (sentence, lang):\n",
    "    response = textgen(sentence,lang)\n",
    "    json_data = json.loads(response.text)\n",
    "    td = [item[0] for item in json_data]\n",
    "    return td"
   ]
  },
  {
   "cell_type": "code",
   "execution_count": 9,
   "metadata": {},
   "outputs": [],
   "source": [
    "# create training examples\n",
    "def create_td (list_sentences):\n",
    "    td = []\n",
    "    for example in list_sentences:  \n",
    "         td.append({'entities': [], 'query': example})\n",
    "    return td"
   ]
  },
  {
   "cell_type": "markdown",
   "metadata": {},
   "source": [
    "## Key Generator"
   ]
  },
  {
   "cell_type": "code",
   "execution_count": 10,
   "metadata": {},
   "outputs": [],
   "source": [
    "def keygen():\n",
    "    k = ''.join(random.choice(string.ascii_lowercase + string.digits) for _ in range(16))\n",
    "    return k"
   ]
  },
  {
   "cell_type": "markdown",
   "metadata": {},
   "source": [
    "# Get FAQ's from Spreadsheet\n"
   ]
  },
  {
   "cell_type": "code",
   "execution_count": 11,
   "metadata": {},
   "outputs": [],
   "source": [
    "xls = pd.ExcelFile('FAQ.xlsx')\n",
    "df1 = pd.read_excel(xls, \"FAQ's\")\n",
    "df = pd.DataFrame()\n",
    "df['Questions']=list(df1['Question'])\n",
    "df['Answers']=list(df1['Answer'])\n",
    "n_items = max(df.count())\n",
    "qa = df[:n_items]\n"
   ]
  },
  {
   "cell_type": "code",
   "execution_count": 12,
   "metadata": {},
   "outputs": [],
   "source": [
    "questions = list(qa['Questions'])\n",
    "answers = list(qa['Answers'])\n"
   ]
  },
  {
   "cell_type": "code",
   "execution_count": 13,
   "metadata": {},
   "outputs": [],
   "source": [
    "# Optional: Check of answers matches question\n",
    "#for i in range(len(questions)):\n",
    "#    print(questions[i])\n",
    "#    print(answers[i])\n",
    "#    print()"
   ]
  },
  {
   "cell_type": "code",
   "execution_count": 14,
   "metadata": {},
   "outputs": [],
   "source": [
    "keys = [\"actionId\",\"intentId\", \"flowId\", \"stepId\"]\n",
    "brainId = keygen()\n",
    "\n",
    "flows = []\n",
    "intents = []\n",
    "actions = []\n",
    "for i in range(len(questions)):\n",
    "    title = questions[i]\n",
    "    answer = answers[i]\n",
    "    dkeys = {}\n",
    "    for key in keys:\n",
    "        dkeys[key]=keygen()\n",
    "    #print(dkeys)\n",
    "    flows.append (createflow (title, dkeys[\"actionId\"] ,dkeys[\"flowId\"], dkeys[\"intentId\"], dkeys[\"stepId\"]))\n",
    "    intents.append (createintent (title, brainId, dkeys[\"intentId\"]))\n",
    "    actions.append (createaction (dkeys[\"actionId\"], brainId, answer) )\n",
    "    #print()"
   ]
  },
  {
   "cell_type": "code",
   "execution_count": 15,
   "metadata": {},
   "outputs": [],
   "source": [
    "data['brains'][0]['flows'] = flows\n",
    "data['brains'][0]['intents'] = intents\n",
    "data['brains'][0]['actions'] = actions"
   ]
  },
  {
   "cell_type": "code",
   "execution_count": 16,
   "metadata": {},
   "outputs": [],
   "source": [
    "\n",
    "with open('uploadthisfiletoflow.json', 'w') as f:\n",
    "    json.dump(data, f)"
   ]
  },
  {
   "cell_type": "markdown",
   "metadata": {},
   "source": [
    "# Add training examples from TextGen\n"
   ]
  },
  {
   "cell_type": "code",
   "execution_count": 17,
   "metadata": {},
   "outputs": [],
   "source": [
    "with open('uploadthisfiletoflow.json') as json_file:\n",
    "    tg = json.load(json_file)"
   ]
  },
  {
   "cell_type": "code",
   "execution_count": 18,
   "metadata": {},
   "outputs": [],
   "source": [
    "intents = tg['brains'][0]['intents']"
   ]
  },
  {
   "cell_type": "code",
   "execution_count": 19,
   "metadata": {},
   "outputs": [],
   "source": [
    "for i in range(len(intents)):\n",
    "    examples = intents[i]['examples']\n",
    "    in_tg = examples[0]['query']\n",
    "    listtd = get_td (in_tg, \"nl\")\n",
    "    listtd.append(in_tg)\n",
    "    examples = create_td (listtd)\n",
    "    tg['brains'][0]['intents'][i]['examples']=examples\n",
    "\n",
    "  #  print()\n",
    "intents = tg['brains'][0]['intents']\n"
   ]
  },
  {
   "cell_type": "code",
   "execution_count": 20,
   "metadata": {},
   "outputs": [],
   "source": [
    "with open('uploadwithexamples.json', 'w') as f:\n",
    "    json.dump(tg, f)"
   ]
  },
  {
   "cell_type": "code",
   "execution_count": null,
   "metadata": {},
   "outputs": [],
   "source": []
  },
  {
   "cell_type": "code",
   "execution_count": null,
   "metadata": {},
   "outputs": [],
   "source": []
  }
 ],
 "metadata": {
  "kernelspec": {
   "display_name": "Python 3",
   "language": "python",
   "name": "python3"
  },
  "language_info": {
   "codemirror_mode": {
    "name": "ipython",
    "version": 3
   },
   "file_extension": ".py",
   "mimetype": "text/x-python",
   "name": "python",
   "nbconvert_exporter": "python",
   "pygments_lexer": "ipython3",
   "version": "3.7.6"
  }
 },
 "nbformat": 4,
 "nbformat_minor": 2
}
