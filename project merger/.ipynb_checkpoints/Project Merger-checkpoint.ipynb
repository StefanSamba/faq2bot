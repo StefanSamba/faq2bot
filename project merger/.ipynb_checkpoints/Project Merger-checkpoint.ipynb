{
 "cells": [
  {
   "cell_type": "code",
   "execution_count": 89,
   "metadata": {},
   "outputs": [],
   "source": [
    "# Open Projects\n",
    "import json\n",
    "with open('uploadwithexamples.json') as json_file:\n",
    "    projecta = json.load(json_file)\n",
    "with open('general nl.json') as json_file:\n",
    "    projectb = json.load(json_file)"
   ]
  },
  {
   "cell_type": "code",
   "execution_count": 121,
   "metadata": {},
   "outputs": [],
   "source": [
    "from pprint import pprint\n",
    "\n",
    "from jsonmerge import merge\n",
    "result = merge(projecta, projectb)\n",
    "\n",
    "with open('projecta_test.json', 'w') as f:\n",
    "    json.dump(result, f)"
   ]
  },
  {
   "cell_type": "code",
   "execution_count": null,
   "metadata": {},
   "outputs": [],
   "source": []
  },
  {
   "cell_type": "code",
   "execution_count": null,
   "metadata": {},
   "outputs": [],
   "source": []
  },
  {
   "cell_type": "code",
   "execution_count": 90,
   "metadata": {},
   "outputs": [
    {
     "data": {
      "text/plain": [
       "dict_keys(['brain', 'flows', 'entities', 'intents', 'actions'])"
      ]
     },
     "execution_count": 90,
     "metadata": {},
     "output_type": "execute_result"
    }
   ],
   "source": [
    "projectb['brains'][0].keys()\n",
    "# skip brain merging\n",
    "# copy flows no brainId here\n",
    "# skip entity merging\n",
    "# copy intents and replace brainId per intent\n",
    "# copy intents and replace brainId per intent"
   ]
  },
  {
   "cell_type": "code",
   "execution_count": 91,
   "metadata": {},
   "outputs": [],
   "source": [
    "def merge_flows (projecta, projectb):\n",
    "    flowsa = projecta['brains'][0]['flows']\n",
    "    flowsb = projectb['brains'][0]['flows']\n",
    "    print(\"number of flows before merge = \",len(flowsa))\n",
    "    for flow in flowsb:\n",
    "        flowsa.append(flow)\n",
    "    print(\"number of flows after merge = \",len(flowsa))\n",
    "    return projecta\n",
    "#merge_flows (projecta, projectb)"
   ]
  },
  {
   "cell_type": "code",
   "execution_count": 92,
   "metadata": {},
   "outputs": [],
   "source": [
    "def merge_intents (projecta, projectb):\n",
    "    intentsa = projecta['brains'][0]['intents']\n",
    "    intentsb = projectb['brains'][0]['intents']\n",
    "    brainIda = projecta['brains'][0]['brain']['brainId']\n",
    "    print(\"number of intents before merge = \",len(intentsa))\n",
    "    for intent in intentsb:\n",
    "        intent['brainId']=brainIda\n",
    "        intentsa.append(intent)\n",
    "    for intent in intentsa:\n",
    "        intent['brainId']=brainIda\n",
    "        \n",
    "    print(\"number of intents after merge = \",len(intentsa))\n",
    "\n",
    "    return projecta\n",
    "#merge_intents (projecta, projectb)"
   ]
  },
  {
   "cell_type": "code",
   "execution_count": 93,
   "metadata": {},
   "outputs": [],
   "source": [
    "def merge_actions (projecta, projectb):\n",
    "    actionsa = projecta['brains'][0]['actions']\n",
    "    actionsb = projectb['brains'][0]['actions']\n",
    "\n",
    "    brainIda = projecta['brains'][0]['brain']['brainId']\n",
    "    print(\"number of actions before merge = \",len(actionsa))\n",
    "    #print(\"number of actions in b = \",len(actionsb))\n",
    "\n",
    "    for action in actionsb:\n",
    "        action['brainId']=brainIda\n",
    "        actionsa.append(action)\n",
    "    \n",
    "    for action in actionsa:\n",
    "        action['brainId']=brainIda\n",
    "    print(\"number of actions after merge = \",len(actionsa))\n",
    "\n",
    "    return projecta\n",
    "#merge_actions (projecta, projectb)"
   ]
  },
  {
   "cell_type": "code",
   "execution_count": 94,
   "metadata": {},
   "outputs": [
    {
     "name": "stdout",
     "output_type": "stream",
     "text": [
      "number of flows before merge =  10\n",
      "number of flows after merge =  21\n",
      "number of intents before merge =  10\n",
      "number of intents after merge =  20\n",
      "number of actions before merge =  10\n",
      "number of actions after merge =  53\n"
     ]
    }
   ],
   "source": [
    "prjct = merge_flows (projecta, projectb)\n",
    "prjct = merge_intents (projecta, projectb)\n",
    "prjct = merge_actions (projecta, projectb)"
   ]
  },
  {
   "cell_type": "code",
   "execution_count": 95,
   "metadata": {},
   "outputs": [],
   "source": [
    "with open('projecta_test.json', 'w') as f:\n",
    "    json.dump(prjct, f)"
   ]
  },
  {
   "cell_type": "code",
   "execution_count": 96,
   "metadata": {},
   "outputs": [
    {
     "name": "stdout",
     "output_type": "stream",
     "text": [
      "e8ef9a45-baf6-40bf-a336-f3b195d06fbb\n",
      "2233f6d1-2817-4ff2-bca4-e095918e66c8\n"
     ]
    }
   ],
   "source": [
    "(prjct['brains'][0]['intents'])\n",
    "print(projecta['brains'][0]['brain']['brainId'])\n",
    "print(projectb['brains'][0]['brain']['brainId'])"
   ]
  },
  {
   "cell_type": "code",
   "execution_count": 97,
   "metadata": {},
   "outputs": [
    {
     "data": {
      "text/plain": [
       "'e8ef9a45-baf6-40bf-a336-f3b195d06fbb'"
      ]
     },
     "execution_count": 97,
     "metadata": {},
     "output_type": "execute_result"
    }
   ],
   "source": [
    "(projecta['brains'][0]['actions'][0]['brainId'])\n"
   ]
  },
  {
   "cell_type": "code",
   "execution_count": 112,
   "metadata": {},
   "outputs": [
    {
     "data": {
      "text/plain": [
       "{'brainId': 'e8ef9a45-baf6-40bf-a336-f3b195d06fbb',\n",
       " 'title': 'Medewerker spreken',\n",
       " 'accuracy': 30.76,\n",
       " 'disableTraining': False,\n",
       " 'examples': [{'entities': [], 'query': 'Medewerker spreken'},\n",
       "  {'entities': [], 'query': 'ik wil een medewerker spreken'},\n",
       "  {'entities': [], 'query': 'hoe kan ik met een mens praten'},\n",
       "  {'entities': [], 'query': 'mens spreken'},\n",
       "  {'entities': [], 'query': 'live chatten met medewerken'},\n",
       "  {'entities': [], 'query': 'ik wil geen bot'},\n",
       "  {'entities': [], 'query': 'is er een agent online'}],\n",
       " 'intentId': '5477e66f-3447-4e23-b60e-094f6d259852'}"
      ]
     },
     "execution_count": 112,
     "metadata": {},
     "output_type": "execute_result"
    }
   ],
   "source": [
    "projecta['brains'][0]['intents'][15] # waar is mijn bestelling"
   ]
  },
  {
   "cell_type": "code",
   "execution_count": 115,
   "metadata": {},
   "outputs": [
    {
     "name": "stdout",
     "output_type": "stream",
     "text": [
      "{'group': '00 General', 'title': '04 Medewerker spreken', 'disabled': False, 'flowId': '9c523b56-b0c2-4d93-b917-f4363f548aba', 'metadata': [], 'steps': [{'type': 'INTENT', 'title': 'Medewerker spreken', 'contexts': [], 'actions': [{'actionId': '13cb339b-777c-4f7a-aaa0-ba0f7e6e7632'}], 'stepId': 'fe71fe9c-02f3-4a6f-b4c0-38cb452dee9a', 'intent': {'intentId': '5477e66f-3447-4e23-b60e-094f6d259852'}}], 'isChannelSpecific': False}\n"
     ]
    }
   ],
   "source": [
    "for flow in projecta['brains'][0]['flows']:\n",
    "    if 'Medewerker'in flow['title']:\n",
    "        print(flow)"
   ]
  },
  {
   "cell_type": "code",
   "execution_count": 118,
   "metadata": {},
   "outputs": [
    {
     "name": "stdout",
     "output_type": "stream",
     "text": [
      "{'actionId': '13cb339b-777c-4f7a-aaa0-ba0f7e6e7632', 'brainId': 'e8ef9a45-baf6-40bf-a336-f3b195d06fbb', 'payload': {'texts': ['Momenteel is er geen live chat medewerker beschikbaar. Wil je een bericht achter laten of de menuopties zien?'], 'quickReplies': [{'label': 'Laat bericht achter', 'value': 'Start Werkpakket', 'type': 'event'}, {'label': 'Menu', 'value': 'Menu', 'type': 'event'}], 'tags': [], 'delay': 0, 'scope': {'channels': []}}, 'type': 'TEXT'}\n"
     ]
    }
   ],
   "source": [
    "for action in projecta['brains'][0]['actions']:\n",
    "    if action['actionId']== '13cb339b-777c-4f7a-aaa0-ba0f7e6e7632':\n",
    "        print(action)"
   ]
  },
  {
   "cell_type": "code",
   "execution_count": null,
   "metadata": {},
   "outputs": [],
   "source": []
  }
 ],
 "metadata": {
  "kernelspec": {
   "display_name": "Python 3",
   "language": "python",
   "name": "python3"
  },
  "language_info": {
   "codemirror_mode": {
    "name": "ipython",
    "version": 3
   },
   "file_extension": ".py",
   "mimetype": "text/x-python",
   "name": "python",
   "nbconvert_exporter": "python",
   "pygments_lexer": "ipython3",
   "version": "3.7.4"
  }
 },
 "nbformat": 4,
 "nbformat_minor": 2
}
