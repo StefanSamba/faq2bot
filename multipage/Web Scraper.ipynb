{
 "cells": [
  {
   "cell_type": "code",
   "execution_count": 1,
   "metadata": {},
   "outputs": [],
   "source": [
    "from urllib.request import urlopen\n",
    "from bs4 import BeautifulSoup\n",
    "import pandas as pd\n",
    "import numpy as np\n",
    "\n",
    "# insert pages to scrape\n",
    "groups = [\"category1/\",\"category1/\"]\n",
    "\n",
    "df = pd.DataFrame()\n",
    "allq = []\n",
    "alla = []\n",
    "allg = []"
   ]
  },
  {
   "cell_type": "code",
   "execution_count": 21,
   "metadata": {},
   "outputs": [],
   "source": [
    "# loop over the different pages\n",
    "for group in groups:\n",
    "    \n",
    "    #insert your main domain\n",
    "    html = urlopen('https://www.yourdomain.com/faq/'+str(group))\n",
    "    bs = BeautifulSoup(html, \"html.parser\")\n",
    "\n",
    "    # Create list of answers\n",
    "    listanswers = []\n",
    "    anchors = bs.findAll(\"div\", class_=\"body\")    #print(len(anchors))\n",
    "    for i in (anchors):\n",
    "        listanswers.append(i.text.strip())\n",
    "        #print(bs.findAll(anchors[i].text.strip()))\n",
    "        \n",
    "    # Create list of questions\n",
    "    listquestions = []\n",
    "    anchors = bs.findAll(\"label\", class_=\"title-m\")\n",
    "    for anchor in anchors:\n",
    "        listquestions.append(anchor.text)\n",
    "    #print(len(listquestions))\n",
    "    allq.append(listquestions)\n",
    "    alla.append(listanswers)\n",
    "    for i in range(len(listquestions)):\n",
    "        allg.append(group)\n",
    "allq = [item for sublist in allq for item in sublist]\n",
    "alla = [item for sublist in alla for item in sublist]    "
   ]
  },
  {
   "cell_type": "code",
   "execution_count": 22,
   "metadata": {},
   "outputs": [],
   "source": [
    "df['Questions']=allq\n",
    "df['Answers']=alla\n",
    "df['Group']=allg"
   ]
  },
  {
   "cell_type": "code",
   "execution_count": null,
   "metadata": {},
   "outputs": [],
   "source": []
  },
  {
   "cell_type": "code",
   "execution_count": 24,
   "metadata": {},
   "outputs": [],
   "source": [
    "df.to_csv('scrapedwebsite.csv', index=False, encoding='utf-8')"
   ]
  },
  {
   "cell_type": "code",
   "execution_count": null,
   "metadata": {},
   "outputs": [],
   "source": []
  }
 ],
 "metadata": {
  "kernelspec": {
   "display_name": "Python 3",
   "language": "python",
   "name": "python3"
  },
  "language_info": {
   "codemirror_mode": {
    "name": "ipython",
    "version": 3
   },
   "file_extension": ".py",
   "mimetype": "text/x-python",
   "name": "python",
   "nbconvert_exporter": "python",
   "pygments_lexer": "ipython3",
   "version": "3.7.1"
  }
 },
 "nbformat": 4,
 "nbformat_minor": 2
}
